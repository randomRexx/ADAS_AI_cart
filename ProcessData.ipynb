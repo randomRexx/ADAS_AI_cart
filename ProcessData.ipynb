{
 "cells": [
  {
   "cell_type": "code",
   "execution_count": 1,
   "metadata": {},
   "outputs": [],
   "source": [
    "import pickle\n",
    "import numpy as np\n",
    "import pandas as pd\n",
    "import matplotlib.pyplot as plt\n",
    "from sklearn.cluster import DBSCAN"
   ]
  },
  {
   "cell_type": "code",
   "execution_count": 2,
   "metadata": {},
   "outputs": [
    {
     "data": {
      "text/plain": [
       "{'numObj': 13,\n",
       " 'rangeIdx': array([4, 3, 4, 5, 4, 5, 3, 4, 5, 4, 5, 4, 5], dtype=int16),\n",
       " 'range': array([0.1875  , 0.140625, 0.1875  , 0.234375, 0.1875  , 0.234375,\n",
       "        0.140625, 0.1875  , 0.234375, 0.1875  , 0.234375, 0.1875  ,\n",
       "        0.234375]),\n",
       " 'dopplerIdx': array([ 0, -3, -3, -3, -2, -2, -1, -1, -1, -2, -2, -1, -1], dtype=int16),\n",
       " 'doppler': array([ 0.        , -0.37501   , -0.37501   , -0.37501   , -0.25000667,\n",
       "        -0.25000667, -0.12500333, -0.12500333, -0.12500333, -0.25000667,\n",
       "        -0.25000667, -0.12500333, -0.12500333]),\n",
       " 'peakVal': array([34, 26, 51, 39, 47, 34, 43, 41, 27, 37, 31, 35, 20], dtype=int16),\n",
       " 'x': array([-0.11132812, -0.09179688, -0.12304688, -0.15429688, -0.01757812,\n",
       "        -0.15429688, -0.08398438, -0.11132812, -0.2265625 , -0.1875    ,\n",
       "        -0.02148438, -0.18164062, -0.13867188]),\n",
       " 'y': array([0.15039062, 0.10546875, 0.140625  , 0.17773438, 0.1875    ,\n",
       "        0.17773438, 0.11328125, 0.15039062, 0.05859375, 0.        ,\n",
       "        0.23242188, 0.046875  , 0.18945312]),\n",
       " 'z': array([0., 0., 0., 0., 0., 0., 0., 0., 0., 0., 0., 0., 0.])}"
      ]
     },
     "execution_count": 2,
     "metadata": {},
     "output_type": "execute_result"
    }
   ],
   "source": [
    "detObj = pickle.load( open( \"frame.p\", \"rb\" ) )\n",
    "detObj"
   ]
  },
  {
   "cell_type": "code",
   "execution_count": 3,
   "metadata": {},
   "outputs": [
    {
     "data": {
      "text/plain": [
       "array([[-0.11132812,  0.15039062],\n",
       "       [-0.09179688,  0.10546875],\n",
       "       [-0.12304688,  0.140625  ],\n",
       "       [-0.15429688,  0.17773438],\n",
       "       [-0.01757812,  0.1875    ],\n",
       "       [-0.15429688,  0.17773438],\n",
       "       [-0.08398438,  0.11328125],\n",
       "       [-0.11132812,  0.15039062],\n",
       "       [-0.2265625 ,  0.05859375],\n",
       "       [-0.1875    ,  0.        ],\n",
       "       [-0.02148438,  0.23242188],\n",
       "       [-0.18164062,  0.046875  ],\n",
       "       [-0.13867188,  0.18945312]])"
      ]
     },
     "execution_count": 3,
     "metadata": {},
     "output_type": "execute_result"
    }
   ],
   "source": [
    "x = detObj['x']\n",
    "y = detObj['y']\n",
    "x.ndim\n",
    "y.ndim\n",
    "\n",
    "pos = np.vstack((x, y)).T\n",
    "pos"
   ]
  },
  {
   "cell_type": "code",
   "execution_count": 4,
   "metadata": {},
   "outputs": [
    {
     "data": {
      "text/html": [
       "<div>\n",
       "<style scoped>\n",
       "    .dataframe tbody tr th:only-of-type {\n",
       "        vertical-align: middle;\n",
       "    }\n",
       "\n",
       "    .dataframe tbody tr th {\n",
       "        vertical-align: top;\n",
       "    }\n",
       "\n",
       "    .dataframe thead th {\n",
       "        text-align: right;\n",
       "    }\n",
       "</style>\n",
       "<table border=\"1\" class=\"dataframe\">\n",
       "  <thead>\n",
       "    <tr style=\"text-align: right;\">\n",
       "      <th></th>\n",
       "      <th>x</th>\n",
       "      <th>y</th>\n",
       "    </tr>\n",
       "  </thead>\n",
       "  <tbody>\n",
       "    <tr>\n",
       "      <th>0</th>\n",
       "      <td>-0.111328</td>\n",
       "      <td>0.150391</td>\n",
       "    </tr>\n",
       "    <tr>\n",
       "      <th>1</th>\n",
       "      <td>-0.091797</td>\n",
       "      <td>0.105469</td>\n",
       "    </tr>\n",
       "    <tr>\n",
       "      <th>2</th>\n",
       "      <td>-0.123047</td>\n",
       "      <td>0.140625</td>\n",
       "    </tr>\n",
       "    <tr>\n",
       "      <th>3</th>\n",
       "      <td>-0.154297</td>\n",
       "      <td>0.177734</td>\n",
       "    </tr>\n",
       "    <tr>\n",
       "      <th>4</th>\n",
       "      <td>-0.017578</td>\n",
       "      <td>0.187500</td>\n",
       "    </tr>\n",
       "    <tr>\n",
       "      <th>5</th>\n",
       "      <td>-0.154297</td>\n",
       "      <td>0.177734</td>\n",
       "    </tr>\n",
       "    <tr>\n",
       "      <th>6</th>\n",
       "      <td>-0.083984</td>\n",
       "      <td>0.113281</td>\n",
       "    </tr>\n",
       "    <tr>\n",
       "      <th>7</th>\n",
       "      <td>-0.111328</td>\n",
       "      <td>0.150391</td>\n",
       "    </tr>\n",
       "    <tr>\n",
       "      <th>8</th>\n",
       "      <td>-0.226562</td>\n",
       "      <td>0.058594</td>\n",
       "    </tr>\n",
       "    <tr>\n",
       "      <th>9</th>\n",
       "      <td>-0.187500</td>\n",
       "      <td>0.000000</td>\n",
       "    </tr>\n",
       "    <tr>\n",
       "      <th>10</th>\n",
       "      <td>-0.021484</td>\n",
       "      <td>0.232422</td>\n",
       "    </tr>\n",
       "    <tr>\n",
       "      <th>11</th>\n",
       "      <td>-0.181641</td>\n",
       "      <td>0.046875</td>\n",
       "    </tr>\n",
       "    <tr>\n",
       "      <th>12</th>\n",
       "      <td>-0.138672</td>\n",
       "      <td>0.189453</td>\n",
       "    </tr>\n",
       "  </tbody>\n",
       "</table>\n",
       "</div>"
      ],
      "text/plain": [
       "           x         y\n",
       "0  -0.111328  0.150391\n",
       "1  -0.091797  0.105469\n",
       "2  -0.123047  0.140625\n",
       "3  -0.154297  0.177734\n",
       "4  -0.017578  0.187500\n",
       "5  -0.154297  0.177734\n",
       "6  -0.083984  0.113281\n",
       "7  -0.111328  0.150391\n",
       "8  -0.226562  0.058594\n",
       "9  -0.187500  0.000000\n",
       "10 -0.021484  0.232422\n",
       "11 -0.181641  0.046875\n",
       "12 -0.138672  0.189453"
      ]
     },
     "execution_count": 4,
     "metadata": {},
     "output_type": "execute_result"
    }
   ],
   "source": [
    "df = pd.DataFrame(pos, columns=['x', 'y'])\n",
    "df"
   ]
  },
  {
   "cell_type": "code",
   "execution_count": 5,
   "metadata": {},
   "outputs": [
    {
     "data": {
      "image/png": "[encoded data removed]",
      "text/plain": [
       "<Figure size 432x288 with 1 Axes>"
      ]
     },
     "metadata": {
      "needs_background": "light"
     },
     "output_type": "display_data"
    }
   ],
   "source": [
    "ax1 = df.plot.scatter(x='x',\n",
    "                      y='y',\n",
    "                      c='DarkBlue')"
   ]
  },
  {
   "cell_type": "code",
   "execution_count": 6,
   "metadata": {},
   "outputs": [
    {
     "data": {
      "text/plain": [
       "array([0, 0, 0, 0, 1, 0, 0, 0, 2, 2, 1, 2, 0], dtype=int64)"
      ]
     },
     "execution_count": 6,
     "metadata": {},
     "output_type": "execute_result"
    }
   ],
   "source": [
    "clustering = DBSCAN(eps=0.05, min_samples=1)\n",
    "clustering.fit(pos)\n",
    "labels = clustering.labels_\n",
    "labels"
   ]
  },
  {
   "cell_type": "code",
   "execution_count": 7,
   "metadata": {},
   "outputs": [
    {
     "data": {
      "text/plain": [
       "3"
      ]
     },
     "execution_count": 7,
     "metadata": {},
     "output_type": "execute_result"
    }
   ],
   "source": [
    "n_clusters = len(set(labels)) - (1 if -1 in labels else 0)\n",
    "n_clusters"
   ]
  },
  {
   "cell_type": "code",
   "execution_count": 13,
   "metadata": {},
   "outputs": [
    {
     "data": {
      "image/png": "[encoded data removed]",
      "text/plain": [
       "<Figure size 432x288 with 1 Axes>"
      ]
     },
     "metadata": {
      "needs_background": "light"
     },
     "output_type": "display_data"
    }
   ],
   "source": [
    "plt.scatter(pos[:,0], pos[:,1], c=labels)\n",
    "plt.title('Number of detected objects: %d' % n_clusters)\n",
    "plt.show()"
   ]
  },
  {
   "cell_type": "code",
   "execution_count": 17,
   "metadata": {},
   "outputs": [
    {
     "data": {
      "text/plain": [
       "array([0.        , 1.12503   , 1.12503   , 1.12503   , 0.50001333,\n",
       "       0.50001333, 0.12500333, 0.12500333, 0.12500333, 0.50001333,\n",
       "       0.50001333, 0.12500333, 0.12500333])"
      ]
     },
     "execution_count": 17,
     "metadata": {},
     "output_type": "execute_result"
    }
   ],
   "source": [
    "# Velocity in m/sec = Doppler index * doppler resolution\n",
    "velocity = detObj['dopplerIdx'] * detObj['doppler']\n",
    "velocity"
   ]
  },
  {
   "cell_type": "code",
   "execution_count": 18,
   "metadata": {},
   "outputs": [
    {
     "data": {
      "text/plain": [
       "array([0.75    , 0.421875, 0.75    , 1.171875, 0.75    , 1.171875,\n",
       "       0.421875, 0.75    , 1.171875, 0.75    , 1.171875, 0.75    ,\n",
       "       1.171875])"
      ]
     },
     "execution_count": 18,
     "metadata": {},
     "output_type": "execute_result"
    }
   ],
   "source": [
    "rng = detObj['rangeIdx'] * detObj['range']\n",
    "rng"
   ]
  }
 ],
 "metadata": {
  "kernelspec": {
   "display_name": "Python 3",
   "language": "python",
   "name": "python3"
  },
  "language_info": {
   "codemirror_mode": {
    "name": "ipython",
    "version": 3
   },
   "file_extension": ".py",
   "mimetype": "text/x-python",
   "name": "python",
   "nbconvert_exporter": "python",
   "pygments_lexer": "ipython3",
   "version": "3.8.6"
  }
 },
 "nbformat": 4,
 "nbformat_minor": 4
}
